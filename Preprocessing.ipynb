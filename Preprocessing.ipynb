{
 "cells": [
  {
   "cell_type": "code",
   "execution_count": 11,
   "id": "5bfd629f-0b7d-42ee-8e36-a2f9cfb23c03",
   "metadata": {
    "execution": {
     "iopub.execute_input": "2023-02-12T17:54:51.574249Z",
     "iopub.status.busy": "2023-02-12T17:54:51.568261Z",
     "iopub.status.idle": "2023-02-12T17:54:59.430297Z",
     "shell.execute_reply": "2023-02-12T17:54:59.429288Z",
     "shell.execute_reply.started": "2023-02-12T17:54:51.573273Z"
    },
    "tags": []
   },
   "outputs": [],
   "source": [
    "import os\n",
    "from helper_functions import *"
   ]
  },
  {
   "cell_type": "code",
   "execution_count": 4,
   "id": "d5040c6e-7257-49e5-bb19-c71d31d0bce5",
   "metadata": {
    "execution": {
     "iopub.execute_input": "2023-02-12T17:04:50.258884Z",
     "iopub.status.busy": "2023-02-12T17:04:50.258884Z",
     "iopub.status.idle": "2023-02-12T17:04:50.286824Z",
     "shell.execute_reply": "2023-02-12T17:04:50.284827Z",
     "shell.execute_reply.started": "2023-02-12T17:04:50.258884Z"
    }
   },
   "outputs": [],
   "source": [
    "translate = {\"cane\": \"dog\",\n",
    "             \"cavallo\": \"horse\",\n",
    "             \"elefante\": \"elephant\",\n",
    "             \"farfalla\": \"butterfly\",\n",
    "             \"gallina\": \"chicken\",\n",
    "             \"gatto\": \"cat\",\n",
    "             \"mucca\": \"cow\",\n",
    "             \"pecora\": \"sheep\",\n",
    "             \"scoiattolo\": \"squirrel\"}"
   ]
  },
  {
   "cell_type": "code",
   "execution_count": 10,
   "id": "c79db3d7-c22f-49b7-9fbc-79f75ebf63a6",
   "metadata": {
    "execution": {
     "iopub.execute_input": "2023-02-12T17:09:44.312927Z",
     "iopub.status.busy": "2023-02-12T17:09:44.311928Z",
     "iopub.status.idle": "2023-02-12T17:09:44.348867Z",
     "shell.execute_reply": "2023-02-12T17:09:44.347868Z",
     "shell.execute_reply.started": "2023-02-12T17:09:44.312927Z"
    },
    "tags": []
   },
   "outputs": [
    {
     "name": "stdout",
     "output_type": "stream",
     "text": [
      "./raw-img/cane\n",
      "./raw-img/cavallo\n",
      "./raw-img/elefante\n",
      "./raw-img/farfalla\n",
      "./raw-img/gallina\n",
      "./raw-img/gatto\n",
      "./raw-img/mucca\n",
      "./raw-img/pecora\n",
      "./raw-img/scoiattolo\n"
     ]
    }
   ],
   "source": [
    "for key, val in translate.items():\n",
    "    key = r'./raw-img/' + key\n",
    "    val = r'./raw-img/' + val\n",
    "    print(key)\n",
    "    os.rename(key, val)"
   ]
  },
  {
   "cell_type": "code",
   "execution_count": 12,
   "id": "e912993c-5d96-4ea3-a52f-2b39be727e77",
   "metadata": {
    "execution": {
     "iopub.execute_input": "2023-02-12T17:55:01.430493Z",
     "iopub.status.busy": "2023-02-12T17:55:01.429494Z",
     "iopub.status.idle": "2023-02-12T17:55:01.491297Z",
     "shell.execute_reply": "2023-02-12T17:55:01.490263Z",
     "shell.execute_reply.started": "2023-02-12T17:55:01.430493Z"
    }
   },
   "outputs": [
    {
     "name": "stdout",
     "output_type": "stream",
     "text": [
      "There are 10 directories and 0 images in 'raw-img'.\n",
      "There are 0 directories and 2112 images in 'raw-img\\butterfly'.\n",
      "There are 0 directories and 1668 images in 'raw-img\\cat'.\n",
      "There are 0 directories and 3098 images in 'raw-img\\chicken'.\n",
      "There are 0 directories and 1866 images in 'raw-img\\cow'.\n",
      "There are 0 directories and 4863 images in 'raw-img\\dog'.\n",
      "There are 0 directories and 1446 images in 'raw-img\\elephant'.\n",
      "There are 0 directories and 2623 images in 'raw-img\\horse'.\n",
      "There are 0 directories and 4821 images in 'raw-img\\ragno'.\n",
      "There are 0 directories and 1820 images in 'raw-img\\sheep'.\n",
      "There are 0 directories and 1862 images in 'raw-img\\squirrel'.\n"
     ]
    }
   ],
   "source": [
    "walk_through_dir('raw-img')"
   ]
  },
  {
   "cell_type": "code",
   "execution_count": 14,
   "id": "68eb2bcc-a125-466c-934b-aaac31c27b2d",
   "metadata": {
    "execution": {
     "iopub.execute_input": "2023-02-12T17:55:49.811916Z",
     "iopub.status.busy": "2023-02-12T17:55:49.810916Z",
     "iopub.status.idle": "2023-02-12T17:56:16.657513Z",
     "shell.execute_reply": "2023-02-12T17:56:16.656508Z",
     "shell.execute_reply.started": "2023-02-12T17:55:49.811916Z"
    },
    "tags": []
   },
   "outputs": [],
   "source": [
    "import splitfolders\n",
    "img_dir = r'./raw-img'\n",
    "\n",
    "splitfolders.ratio(img_dir, seed=42, output='data')"
   ]
  },
  {
   "cell_type": "code",
   "execution_count": null,
   "id": "462030f3",
   "metadata": {},
   "outputs": [],
   "source": []
  }
 ],
 "metadata": {
  "kernelspec": {
   "display_name": "Python 3 (ipykernel)",
   "language": "python",
   "name": "python3"
  },
  "language_info": {
   "codemirror_mode": {
    "name": "ipython",
    "version": 3
   },
   "file_extension": ".py",
   "mimetype": "text/x-python",
   "name": "python",
   "nbconvert_exporter": "python",
   "pygments_lexer": "ipython3",
   "version": "3.10.2"
  },
  "widgets": {
   "application/vnd.jupyter.widget-state+json": {
    "state": {},
    "version_major": 2,
    "version_minor": 0
   }
  }
 },
 "nbformat": 4,
 "nbformat_minor": 5
}
